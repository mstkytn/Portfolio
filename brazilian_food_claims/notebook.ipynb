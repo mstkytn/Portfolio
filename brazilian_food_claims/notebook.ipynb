{
  "metadata": {
    "colab": {
      "name": "Welcome to DataCamp Workspaces.ipynb",
      "provenance": []
    },
    "toc-showmarkdowntxt": false,
    "toc-autonumbering": false,
    "toc-showcode": true,
    "kernelspec": {
      "name": "python",
      "display_name": "Python (Pyodide)",
      "language": "python"
    },
    "language_info": {
      "codemirror_mode": {
        "name": "python",
        "version": 3
      },
      "file_extension": ".py",
      "mimetype": "text/x-python",
      "name": "python",
      "nbconvert_exporter": "python",
      "pygments_lexer": "ipython3",
      "version": "3.8"
    }
  },
  "nbformat_minor": 5,
  "nbformat": 4,
  "cells": [
    {
      "cell_type": "markdown",
      "source": "# Brazilian Food Claims",
      "metadata": {
        "tags": []
      },
      "id": "7c400ccc-8122-4a3a-ab2a-fcb0f2b7ca8b"
    },
    {
      "cell_type": "code",
      "source": "import pandas as pd\nimport numpy as np\n\ndf = pd.read_csv('data/food_claims_2212.csv')\ndf.head()",
      "metadata": {
        "jupyter": {
          "source_hidden": true
        },
        "tags": [],
        "trusted": true
      },
      "execution_count": 10,
      "outputs": [
        {
          "execution_count": 10,
          "output_type": "execute_result",
          "data": {
            "text/plain": "   claim_id  time_to_close claim_amount  amount_paid   location  \\\n0         1            317  R$ 74474.55     51231.37     RECIFE   \n1         2            195  R$ 52137.83     42111.30  FORTALEZA   \n2         3            183   R$ 24447.2     23986.30   SAO LUIS   \n3         4            186  R$ 29006.28     27942.72  FORTALEZA   \n4         5            138   R$ 19520.6     16251.06     RECIFE   \n\n   individuals_on_claim linked_cases      cause  \n0                    15        False    unknown  \n1                    12         True    unknown  \n2                    10         True       meat  \n3                    11        False       meat  \n4                    11        False  vegetable  ",
            "text/html": "<div>\n<style scoped>\n    .dataframe tbody tr th:only-of-type {\n        vertical-align: middle;\n    }\n\n    .dataframe tbody tr th {\n        vertical-align: top;\n    }\n\n    .dataframe thead th {\n        text-align: right;\n    }\n</style>\n<table border=\"1\" class=\"dataframe\">\n  <thead>\n    <tr style=\"text-align: right;\">\n      <th></th>\n      <th>claim_id</th>\n      <th>time_to_close</th>\n      <th>claim_amount</th>\n      <th>amount_paid</th>\n      <th>location</th>\n      <th>individuals_on_claim</th>\n      <th>linked_cases</th>\n      <th>cause</th>\n    </tr>\n  </thead>\n  <tbody>\n    <tr>\n      <th>0</th>\n      <td>1</td>\n      <td>317</td>\n      <td>R$ 74474.55</td>\n      <td>51231.37</td>\n      <td>RECIFE</td>\n      <td>15</td>\n      <td>False</td>\n      <td>unknown</td>\n    </tr>\n    <tr>\n      <th>1</th>\n      <td>2</td>\n      <td>195</td>\n      <td>R$ 52137.83</td>\n      <td>42111.30</td>\n      <td>FORTALEZA</td>\n      <td>12</td>\n      <td>True</td>\n      <td>unknown</td>\n    </tr>\n    <tr>\n      <th>2</th>\n      <td>3</td>\n      <td>183</td>\n      <td>R$ 24447.2</td>\n      <td>23986.30</td>\n      <td>SAO LUIS</td>\n      <td>10</td>\n      <td>True</td>\n      <td>meat</td>\n    </tr>\n    <tr>\n      <th>3</th>\n      <td>4</td>\n      <td>186</td>\n      <td>R$ 29006.28</td>\n      <td>27942.72</td>\n      <td>FORTALEZA</td>\n      <td>11</td>\n      <td>False</td>\n      <td>meat</td>\n    </tr>\n    <tr>\n      <th>4</th>\n      <td>5</td>\n      <td>138</td>\n      <td>R$ 19520.6</td>\n      <td>16251.06</td>\n      <td>RECIFE</td>\n      <td>11</td>\n      <td>False</td>\n      <td>vegetable</td>\n    </tr>\n  </tbody>\n</table>\n</div>"
          },
          "metadata": {}
        }
      ],
      "id": "8e9f5f53-0573-41df-b935-ef6c0ebaa1ac"
    },
    {
      "cell_type": "markdown",
      "source": "## Data Validation\n\n*About the original data*\n\nThe given dataset has 2000 rows and 8 columns. These columns consist of 3 categorical and 5 numeric (2 discrete, 2 continuous, and 1 nominal) variables. The **claim_id** column (primary key) exists just as informative data in this case because of being a categorical variable type. Nevertheless, we may check its uniqueness to explore whether there is any missing or duplicated record.",
      "metadata": {
        "tags": []
      },
      "id": "90cbb565-9e9c-4818-90a9-5d4177fd6d41"
    },
    {
      "cell_type": "markdown",
      "source": "________________\nThere is a conflict about the ***\"individuals_on_claim\"*** column in the instructions. According to the data dictionary, the 3rd criterion claims \"the minimum person is 1.\". The following measure points out replacing missing values with \"0\". Nonetheless, we can ignore the conflict since the \"individuals_on_claim\" does not have any missing values.\n\nOn the other hand, the ***claim_amont*** variable's data type had defined as a string instead of a float.\n\n\n\n**Here are the given raw data types with pandas data frame transformation:**\n\n*Unprocessed data types in dataframe*\n\n\n|claim_id|time_to_close|claim_amount|amount_paid|location|individuals_on_claim|linked_cases|cause|\n|---|---|---|---|---|---|---|---|\n|int64|int64|<mark>object</mark>|float64|object|int64|object|object|\n\n\n<font color='white'>____</font>\n\n***About The given states of Variables***\n\n- **claim_id:** The primary key of the dataset, considered as nominal\n- **time_to_close:** Discrete, positive integers\n- **claim_amount:** Wrong data type according to instructions, also involves the abbreviation of Brazilian Real as the prefix.\n- **amount_paid:** Improper raw data type, stored as a string; has missing values\n- **location** Categorical variable\n- **individuals_on_claim :** Discrete, positive integers\n- **linked_cases :** Boolean True/False, categorical variable, has missing values\n- **cause :** Categorical variable, has case errors, blanks and typo\n\n\n*We encountered the database storage errors such as datatype and prefix. The team who provides and maintains the data has to lead to fix it. They also have to be informed the stakeholders about being careful about this issue.*",
      "metadata": {
        "tags": []
      },
      "id": "714a7083-7a43-4b0b-8ed4-2675efc87691"
    },
    {
      "cell_type": "markdown",
      "source": "### Missing Values\n|Variable|Null Count|Fill NA Method\n|---|---|---|\n|claim_id                |0| \n|time_to_close           |0| \n|claim_amount            |0| \n|**amount_paid**         |**<mark>36</mark>**| **Overall Median** | \n|location                |0| \n|individuals_on_claim    |0| \n|**linked_cases**        |**<mark>26</mark>**| **False** |\n|cause                   |0| \n\nIn the dataset, **amount_paid** and **linked_cases** variables have null values shown at above table.",
      "metadata": {},
      "id": "c1a22f54-e688-42f8-bb27-38244b2794c2"
    },
    {
      "cell_type": "markdown",
      "source": "### Differences between the original (RAW) and processed (VALID) data\n| Variables | Type (Raw) |Type (Valid)| Distinct Values (Raw) | Distinct Values (Valid)| Min Value | Max Value|\n|----|----|----|----|----|----|----|\n|claim_id                |num|numeric - nominal|2000|2000|1|2000|\n|time_to_close           |num|numeric - discrete|256|256|76|518|\n|claim_amount            |cat|numeric - continuous|2000|2000|1637.94|76106.80|\n|amount_paid             |num|numeric - continuous|1963|1964|1516.72|52498.75|\n|location                |cat|categorical - nominal|4|4|||\n|individuals_on_claim    |num|numeric - discrete|15|15|1|15|\n|linked_cases            |cat|categorical - nominal|2|2|||\n|cause                   |cat|categorical - nominal|5|3|||\n\n&nbsp;\n\n**Processes:**\n- We explored that dataset has 2000 records, and **claim_id** has no duplicated or missing records as above findings. \n- The **claim_amount** variable cleared from the prefix. \n- The **cause** variable was trimmed, upper-cased, and modified to combine designation differences. \n- The data types of **claim_amount** and **amount_paid** transformed to 2-decimal rounded floats according to the instructions. \n- Missing values were filled as requested(<ins>amount_paid: *Median*</ins>, <ins>linked_cases *False*</ins>).\n\n> Overall median of amount_paid variable: 20105.70\n_________________________",
      "metadata": {},
      "id": "c93d7763-f187-456b-a8b7-00a866f46ef5"
    },
    {
      "cell_type": "markdown",
      "source": "### Summary\n\n*About the ranges and values after cleansing processes*\n\n|||\n|---|---|\n|**claim_id** has 2000 unique nominal values.||\n|**time_to_close** has 256 unique values. | **Range: (76 - 518, integer)**|\n|**claim_amount** has 2000 unique values. | **Range: (1637.94 - 76106.80, float)**|\n|**amount_paid** has 1964 unique values. | **Range: (1516.72 - 52498.75, float)**|\n|**location** has 4 categories. | **<font color=\"blue\">RECIFE, FORTALEZA, SAO LUIS, NATAL</font>**|\n|**individuals_on_claim** has 15 unique values. | **Range: (1 - 15, integer)**|\n|**linked_cases** has 2 categories. | **<font color=\"blue\">False, True</font>**|\n|**cause** has 3 categories. | **<font color=\"blue\">UNKNOWN, MEAT, VEGETABLES</font>**|\n",
      "metadata": {},
      "id": "b3564036-84e9-4fa1-80f4-c6f7bc283faf"
    },
    {
      "cell_type": "markdown",
      "source": "## Data Visualization",
      "metadata": {},
      "id": "bda7bde0-c6b0-4108-ba3a-79c0aba2b2ca"
    },
    {
      "cell_type": "markdown",
      "source": "|Location| Count |Percent| \n|-|-|-| \n|RECIFE   |       885 |  %44.25|\n|SAO LUIS |       517 |  %25.85|\n|FORTALEZA  |     311  | %15.55|\n|NATAL  |         287  | %14.35|\n|Total|2000|%100|\n\nIn the below bar graph, <mark>RECIFE is the most observed category by location</mark> (close to half of the total). SAO LUIS is the second category (nearly a quarter of the total). FORTALEZA and NATAL are lower than others.\n\nFirstly, we need to ask about these outlets' ratios of claimed over total records to compare their performances by location. Because of the need for more information, we must evaluate the findings accordingly in this analysis.",
      "metadata": {},
      "id": "14ad0a65-1882-428e-be9f-825da9b28c63"
    },
    {
      "cell_type": "markdown",
      "source": "### Bar Graph & Histogram \n\nLocation, Bar Graph | Time to Close, Histogram Graph\n-|-\n![Visual-1](Figure_1.png) | ![Visual-2](Figure_2.png)\n\nRegarding the legal team's notification, their main goal was to close the claim cases faster. According to the above histogram, the completion of claims is positively skewed and has positive kurtosis, intensely occurring around the mean (185.57 days). If the team focuses on cases that take between 150 and 200 days, they encounter the most influential group to improve.\n\nOn the other hand, the outliers cause a higher standard deviation. The more the upper outliers decrease, the more the means respond immediately. Hence, the team has to focus on exploring the cause of common categories in variables such as cause and amount_paid.",
      "metadata": {
        "tags": []
      },
      "id": "6445ec98-4881-44b8-90f2-37a55121512a"
    },
    {
      "cell_type": "markdown",
      "source": "________________________________\n\n\n|Location|Mean|Median|Range|\n|---|---|---|---|\n|FORTALEZA|185.31|180.00|377|\n|NATAL|185.93|179.00|268|\n|RECIFE|184.61|178.00|345|\n|SAO LUIS|187.17|179.00|434|\n\nIn terms of the median and inner quartile range, the box plot shows that the categories of the location variable are highly similar. All location categories have upper outliers. Their means are slightly close. According to the graphic, \"SAO LUIS\" is the most positive skewed category, and also we may recognize it as comparing the median and mean.\n\nIn terms of ranges, NATAL has the narrowest. FORTALEZA and RECIFE are nearly the same. However, SAO LUIS has the broadest range and includes the highest outliers. These must be investigated in further studies to explore outliers' root causes.",
      "metadata": {},
      "id": "97e3b052-6e1b-4b87-908e-c179e5410aba"
    },
    {
      "cell_type": "markdown",
      "source": "### Distribution: Categories of Location (Box Plot)\n![Visual-3](Figure_3.png)\n\n\n#### Inner Quartile Ranges\n![Visual-4](Figure_3a.png) \n\n\n#### Upper Outliers\n![Visual-5](Figure_3b.png)\n\n\nIn light of these findings, we understand that Vivendo's claim response duration does not differ much by category of location; however, <mark>SAO LUIS is the most spread</mark> one as a reply to the Head of the department.",
      "metadata": {},
      "id": "3e6642ec-8afa-4e18-a2a6-7edd8b524286"
    },
    {
      "cell_type": "markdown",
      "source": "_______________________\n### Distribution: Categories of Location by Cause (Box Plot) \n\nAccording to the box plot below, Unknown and Meat categories affect the time_to_close variable's spread more than the vegetables. First and foremost, the *UNKNOWN* cause category of *SAO LUIS* pays to investigate. Moreover, the team must focus on the *UNKNOWN* cause category to reveal whether meat or vegetables. The related team has to investigate whether there is a sanitation problem in the production flow. If there is, it requires immediate fixes for the meat products. In this scope, the company must investigate the providers and examine the storage conditions to improve.\n\n![Visual-6](Figure_4d2.png)",
      "metadata": {},
      "id": "7a742af1-20f8-4e54-93d3-4d622c37aa84"
    },
    {
      "cell_type": "markdown",
      "source": "Regarding the findings, positive high and high-moderate correlations exist between *claim_amount, amount_paid, individuals_on_claim* and *time_to_close* variables. The **time_to_close** mainly correlated with **claim_amount**. Due to the mentioned correlation, the team might prioritize the records with the highest claim_amounted.\n\n### Correlations of Completion Time\n\n#### Scatter Plot, claim_amount - time_to_close\n![Visual-7](c1.png)\n\n__________________________________\n#### Scatter Plot, amount_paid - time_to_close\n![Visual-8](c2.png)",
      "metadata": {},
      "id": "aba121c7-190f-4b5e-bcf8-4d595714bf8d"
    },
    {
      "cell_type": "markdown",
      "source": "____________________\nThe team might examine the correlation between claim_amount and individuals_on_claim for further studies. They might reveal the effects of individuals_on_claim on marginal time cost and marginal productivity.\n\n\n#### Correlations by Cause & Location (Hued by individuals_on_claim)\n![Visual-9](Figure_669.png)\n______________________________\n![Visual-10](Figure_668.png)",
      "metadata": {},
      "id": "4cfa8f04-c27c-4b6f-acf6-d97be10799c7"
    },
    {
      "cell_type": "markdown",
      "source": "***Thanks in advance for your kind consideration.***",
      "metadata": {
        "tags": []
      },
      "id": "2d78985c-4eab-4a56-954b-0fcd5619b474"
    }
  ]
}